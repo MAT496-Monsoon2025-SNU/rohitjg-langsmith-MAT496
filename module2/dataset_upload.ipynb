{
 "cells": [
  {
   "cell_type": "code",
   "execution_count": 40,
   "id": "50c51a4a",
   "metadata": {},
   "outputs": [],
   "source": [
    "from dotenv import load_dotenv\n",
    "import os\n",
    "\n",
    "load_dotenv(override=True)\n",
    "\n",
    "langsmith_api_key = os.getenv(\"LANGSMITH_API_KEY\")"
   ]
  },
  {
   "cell_type": "code",
   "execution_count": 41,
   "id": "d8e53c6b",
   "metadata": {},
   "outputs": [
    {
     "name": "stdout",
     "output_type": "stream",
     "text": [
      "Topics: Arduino, Raspberry Pi, Sensors, IoT, and Electronics Basics\n",
      "Successfully uploaded 10 electronics Q&A examples!\n",
      "Dataset ready for evaluating electronics and Arduino knowledge\n"
     ]
    }
   ],
   "source": [
    "from langsmith import Client\n",
    "\n",
    "client = Client(api_key=langsmith_api_key)\n",
    "\n",
    "# Electronics & Microcontroller Q&A Dataset\n",
    "example_inputs = [\n",
    "(\"How do I set up a basic LED circuit with Arduino Uno?\", \"To set up a basic LED circuit with Arduino Uno, connect the LED's long leg (anode) to digital pin 13 through a 220-ohm resistor, and connect the short leg (cathode) to GND. In your Arduino sketch, use pinMode(13, OUTPUT) in setup() and digitalWrite(13, HIGH) to turn it on, digitalWrite(13, LOW) to turn it off. This is the classic 'Hello World' of Arduino projects!\"),\n",
    "(\"What's the difference between Arduino Uno and Raspberry Pi?\", \"Arduino Uno is a microcontroller board best for real-time hardware control, sensor reading, and simple repetitive tasks with low power consumption. Raspberry Pi is a single-board computer that runs a full operating system, making it ideal for complex applications, web servers, image processing, and projects requiring multitasking. Choose Arduino for dedicated hardware control, Raspberry Pi for computational tasks.\"),\n",
    "(\"How do I read analog sensor values on Arduino?\", \"To read analog sensor values on Arduino, connect your sensor's output to one of the analog pins (A0-A5 on Uno). Use analogRead(A0) in your code, which returns a value between 0-1023 representing 0-5V. For example: int sensorValue = analogRead(A0); float voltage = sensorValue * (5.0/1023.0); This converts the digital reading back to voltage for meaningful measurements.\"),\n",
    "(\"What are the best sensors to start with for Arduino projects?\", \"The best beginner sensors for Arduino include: DHT22 for temperature/humidity, ultrasonic HC-SR04 for distance measurement, PIR motion sensor for detecting movement, photoresistor (LDR) for light detection, and potentiometer for analog input. These sensors are affordable, well-documented, and perfect for learning basic input/output concepts while building practical projects.\"),\n",
    "(\"How do I control a servo motor with Raspberry Pi?\", \"To control a servo motor with Raspberry Pi, connect the servo's power to 5V, ground to GND, and signal wire to a GPIO pin (like GPIO18). Install the RPi.GPIO library and use PWM to control the servo angle. Set PWM frequency to 50Hz and adjust duty cycle between 2.5% (0°) and 12.5% (180°) to control position. Always use external power for multiple servos!\"),\n",
    "(\"What programming languages can I use with Raspberry Pi?\", \"Raspberry Pi supports multiple programming languages including Python (most popular and beginner-friendly), C/C++ for performance-critical applications, JavaScript with Node.js for web-based projects, Scratch for visual programming, and even Java or Go. Python is recommended for beginners due to extensive GPIO libraries like RPi.GPIO and gpiozero, plus great community support.\"),\n",
    "(\"How do I set up I2C communication between Arduino and sensors?\", \"To set up I2C communication on Arduino, use the Wire library and connect SDA to A4, SCL to A5 on Uno (or dedicated SDA/SCL pins on other boards). Include Wire.h, call Wire.begin() in setup(), and use Wire.beginTransmission(), Wire.write(), Wire.endTransmission() to send data. For reading, use Wire.requestFrom() and Wire.read(). Remember to use pull-up resistors (4.7kΩ) on SDA and SCL lines!\"),\n",
    "(\"What's the best way to power Arduino projects?\", \"For Arduino projects, you can power via USB (5V, limited current), DC barrel jack (7-12V recommended, uses onboard regulator), or VIN pin (7-12V). For battery projects, use 4xAA batteries (6V) or 9V battery through VIN, or 3.7V LiPo with voltage regulator. For high-current devices like motors, always use external power supplies and connect grounds together. USB power is great for development and low-power sensors.\"),\n",
    "(\"How do I create a simple IoT project with Raspberry Pi?\", \"For a simple IoT project with Raspberry Pi, start by connecting a sensor (like DHT22 for temperature), install required Python libraries (Adafruit_DHT), write a script to read sensor data, and send it to a cloud service like ThingSpeak or AWS IoT using HTTP requests. Use cron jobs for automated data collection, and consider adding a web dashboard using Flask for local monitoring. Don't forget to secure your Pi with strong passwords!\"),\n",
    "(\"What are common mistakes beginners make with Arduino?\", \"Common Arduino mistakes include: forgetting current-limiting resistors for LEDs (can burn them out), not using pull-up resistors for buttons (causes erratic readings), mixing up analog/digital pins, using delay() in time-sensitive code (blocks execution), insufficient power supply for motors/servos, and not sharing ground between Arduino and external power supplies. Always double-check wiring and start with simple examples before building complex projects!\"),\n",
    "]\n",
    "dataset_id = \"7b1f15f2-1b85-4f53-b26c-70e6c86dd825\"\n",
    "\n",
    "print(\"Topics: Arduino, Raspberry Pi, Sensors, IoT, and Electronics Basics\")\n",
    "\n",
    "outputs = [{\"output\": output_answer} for _, output_answer in example_inputs]\n",
    "inputs = [{\"question\": input_prompt} for input_prompt, _ in example_inputs]\n",
    "outputs = [{\"output\": output_answer} for _, output_answer in example_inputs]\n",
    "\n",
    "try:\n",
    "    result = client.create_examples(\n",
    "        inputs=inputs,\n",
    "        outputs=outputs,\n",
    "        dataset_id=dataset_id,\n",
    "    )\n",
    "    print(f\"Successfully uploaded {len(example_inputs)} electronics Q&A examples!\")\n",
    "    print(f\"Dataset ready for evaluating electronics and Arduino knowledge\")\n",
    "\n",
    "except Exception as e:\n",
    "    print(f\"Error uploading examples: {str(e)}\")\n",
    "\n",
    "    print(\"Check your API key and dataset ID\")\n",
    "except Exception as e:\n",
    "    print(\"Check your API key and dataset ID\")\n",
    "    print(f\"Error uploading examples: {str(e)}\")"
   ]
  }
 ],
 "metadata": {
  "kernelspec": {
   "display_name": "mat",
   "language": "python",
   "name": "python3"
  },
  "language_info": {
   "codemirror_mode": {
    "name": "ipython",
    "version": 3
   },
   "file_extension": ".py",
   "mimetype": "text/x-python",
   "name": "python",
   "nbconvert_exporter": "python",
   "pygments_lexer": "ipython3",
   "version": "3.12.11"
  }
 },
 "nbformat": 4,
 "nbformat_minor": 5
}
