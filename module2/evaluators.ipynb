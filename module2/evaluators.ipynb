{
 "cells": [
  {
   "cell_type": "code",
   "execution_count": 7,
   "id": "a2f4556c",
   "metadata": {},
   "outputs": [],
   "source": [
    "from langsmith.schemas import Example, Run\n",
    "\n",
    "def correct_label(inputs: dict, reference_outputs: dict, outputs: dict) -> dict:\n",
    "  score = outputs.get(\"output\") == reference_outputs.get(\"label\")\n",
    "  return {\"score\": int(score), \"key\": \"correct_label\"}"
   ]
  },
  {
   "cell_type": "code",
   "execution_count": 8,
   "id": "16181059",
   "metadata": {},
   "outputs": [
    {
     "data": {
      "text/plain": [
       "True"
      ]
     },
     "execution_count": 8,
     "metadata": {},
     "output_type": "execute_result"
    }
   ],
   "source": [
    "from dotenv import load_dotenv\n",
    "load_dotenv(override=True)"
   ]
  },
  {
   "cell_type": "code",
   "execution_count": 9,
   "id": "27d4bf15",
   "metadata": {},
   "outputs": [],
   "source": [
    "from openai import OpenAI\n",
    "from pydantic import BaseModel, Field\n",
    "\n",
    "client = OpenAI()\n",
    "\n",
    "class Similarity_Score(BaseModel):\n",
    "    similarity_score: int = Field(description=\"Semantic similarity score between 1 and 10, where 1 means unrelated and 10 means identical.\")\n",
    "\n",
    "def compare_semantic_similarity(inputs: dict, reference_outputs: dict, outputs: dict):\n",
    "    input_question = inputs[\"question\"]\n",
    "    reference_response = reference_outputs[\"output\"]\n",
    "    run_response = outputs[\"output\"]\n",
    "    \n",
    "    completion = client.beta.chat.completions.parse(\n",
    "        model=\"gpt-4o\",\n",
    "        messages=[\n",
    "            {   \n",
    "                \"role\": \"system\",\n",
    "                \"content\": (\n",
    "                    \"You are a semantic similarity evaluator. Compare the meanings of two responses to a question, \"\n",
    "                    \"Reference Response and New Response, where the reference is the correct answer, and we are trying to judge if the new response is similar. \"\n",
    "                    \"Provide a score between 1 and 10, where 1 means completely unrelated, and 10 means identical in meaning.\"\n",
    "                ),\n",
    "            },\n",
    "            {\"role\": \"user\", \"content\": f\"Question: {input_question}\\n Reference Response: {reference_response}\\n Run Response: {run_response}\"}\n",
    "        ],\n",
    "        response_format=Similarity_Score,\n",
    "    )\n",
    "\n",
    "    similarity_score = completion.choices[0].message.parsed\n",
    "    return {\"score\": similarity_score.similarity_score, \"key\": \"similarity\"}"
   ]
  },
  {
   "cell_type": "code",
   "execution_count": 10,
   "id": "d4670e48",
   "metadata": {},
   "outputs": [
    {
     "name": "stdout",
     "output_type": "stream",
     "text": [
      "Semantic similarity score: {'score': 8, 'key': 'similarity'}\n"
     ]
    }
   ],
   "source": [
    "# 🔌 Electronics Knowledge Test Case\n",
    "inputs = {\n",
    "  \"question\": \"How do I set up a basic LED circuit with Arduino Uno?\"\n",
    "}\n",
    "reference_outputs = {\n",
    "  \"output\": \"To set up a basic LED circuit with Arduino Uno, connect the LED's long leg (anode) to digital pin 13 through a 220-ohm resistor, and connect the short leg (cathode) to GND. In your Arduino sketch, use pinMode(13, OUTPUT) in setup() and digitalWrite(13, HIGH) to turn it on, digitalWrite(13, LOW) to turn it off. This is the classic 'Hello World' of Arduino projects!\"\n",
    "}\n",
    "\n",
    "# Test Response - Partially Correct\n",
    "outputs = {\n",
    "  \"output\": \"Connect LED to pin 13 and ground, then use digitalWrite to control it. You might need a resistor to protect the LED.\"\n",
    "}\n",
    "\n",
    "similarity_score = compare_semantic_similarity(inputs, reference_outputs, outputs)\n",
    "print(f\"Semantic similarity score: {similarity_score}\")"
   ]
  },
  {
   "cell_type": "code",
   "execution_count": 11,
   "id": "fe54cd1f",
   "metadata": {},
   "outputs": [],
   "source": [
    "from langsmith.schemas import Run, Example\n",
    "\n",
    "def compare_semantic_similarity_v2(root_run: Run, example: Example):\n",
    "    input_question = example[\"inputs\"][\"question\"]\n",
    "    reference_response = example[\"outputs\"][\"output\"]\n",
    "    run_response = root_run[\"outputs\"][\"output\"]\n",
    "    \n",
    "    completion = client.beta.chat.completions.parse(\n",
    "        model=\"gpt-4o\",\n",
    "        messages=[\n",
    "            {   \n",
    "                \"role\": \"system\",\n",
    "                \"content\": (\n",
    "                    \"You are a semantic similarity evaluator. Compare the meanings of two responses to a question, \"\n",
    "                    \"Reference Response and New Response, where the reference is the correct answer, and we are trying to judge if the new response is similar. \"\n",
    "                    \"Provide a score between 1 and 10, where 1 means completely unrelated, and 10 means identical in meaning.\"\n",
    "                ),\n",
    "            },\n",
    "            {\"role\": \"user\", \"content\": f\"Question: {input_question}\\n Reference Response: {reference_response}\\n Run Response: {run_response}\"}\n",
    "        ],\n",
    "        response_format=Similarity_Score,\n",
    "    )\n",
    "\n",
    "    similarity_score = completion.choices[0].message.parsed\n",
    "    return {\"score\": similarity_score.similarity_score, \"key\": \"similarity\"}"
   ]
  },
  {
   "cell_type": "code",
   "execution_count": 12,
   "id": "78527435",
   "metadata": {},
   "outputs": [
    {
     "name": "stdout",
     "output_type": "stream",
     "text": [
      "Semantic similarity score: {'score': 8, 'key': 'similarity'}\n"
     ]
    }
   ],
   "source": [
    "# 🤖 Arduino vs Raspberry Pi Knowledge Test\n",
    "sample_run = {\n",
    "  \"name\": \"Electronics Assistant Run\",\n",
    "  \"inputs\": {\n",
    "    \"question\": \"What's the difference between Arduino Uno and Raspberry Pi?\"\n",
    "  },\n",
    "  \"outputs\": {\n",
    "    \"output\": \"Arduino is for simple projects, Raspberry Pi is like a computer. Arduino is cheaper and easier to use for beginners.\"\n",
    "  },\n",
    "  \"is_root\": True,\n",
    "  \"status\": \"success\",\n",
    "  \"extra\": {\n",
    "    \"metadata\": {\n",
    "      \"topic\": \"microcontrollers\",\n",
    "      \"difficulty\": \"beginner\"\n",
    "    }\n",
    "  }\n",
    "}\n",
    "\n",
    "sample_example = {\n",
    "  \"inputs\": {\n",
    "    \"question\": \"What's the difference between Arduino Uno and Raspberry Pi?\"\n",
    "  },\n",
    "  \"outputs\": {\n",
    "    \"output\": \"Arduino Uno is a microcontroller board best for real-time hardware control, sensor reading, and simple repetitive tasks with low power consumption. Raspberry Pi is a single-board computer that runs a full operating system, making it ideal for complex applications, web servers, image processing, and projects requiring multitasking. Choose Arduino for dedicated hardware control, Raspberry Pi for computational tasks.\"\n",
    "  },\n",
    "  \"metadata\": {\n",
    "    \"dataset_split\": [\n",
    "      \"electronics_expert\",\n",
    "      \"verified_answer\"\n",
    "    ],\n",
    "    \"topic\": \"microcontroller_comparison\"\n",
    "  }\n",
    "}\n",
    "\n",
    "print(f\"Semantic similarity score: {similarity_score}\")\n",
    "similarity_score = compare_semantic_similarity_v2(sample_run, sample_example)"
   ]
  }
 ],
 "metadata": {
  "kernelspec": {
   "display_name": "mat",
   "language": "python",
   "name": "python3"
  },
  "language_info": {
   "codemirror_mode": {
    "name": "ipython",
    "version": 3
   },
   "file_extension": ".py",
   "mimetype": "text/x-python",
   "name": "python",
   "nbconvert_exporter": "python",
   "pygments_lexer": "ipython3",
   "version": "3.12.11"
  }
 },
 "nbformat": 4,
 "nbformat_minor": 5
}
