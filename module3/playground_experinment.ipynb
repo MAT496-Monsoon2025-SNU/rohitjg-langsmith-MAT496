{
 "cells": [
  {
   "cell_type": "code",
   "execution_count": 11,
   "id": "fd9a91a4",
   "metadata": {},
   "outputs": [],
   "source": [
    "from dotenv import load_dotenv\n",
    "load_dotenv(override=True)\n",
    "\n",
    "langsmith_api_key = os.getenv(\"LANGSMITH_API_KEY\")"
   ]
  },
  {
   "cell_type": "code",
   "execution_count": 15,
   "id": "093046b4",
   "metadata": {},
   "outputs": [
    {
     "data": {
      "text/plain": [
       "{'example_ids': ['5fcf127c-4bf9-4c96-9255-7a247dfdad43',\n",
       "  '511bbf90-4c76-4b82-a227-a2eb44751d41',\n",
       "  '14eced3c-cfa6-46a4-b4b4-ec3abc37cc15'],\n",
       " 'count': 3}"
      ]
     },
     "execution_count": 15,
     "metadata": {},
     "output_type": "execute_result"
    }
   ],
   "source": [
    "from langsmith import Client\n",
    "\n",
    "example_inputs = [\n",
    "(\"How do I wire an LED to Arduino?\", \"Connect LED anode to pin 13 through 220-ohm resistor, cathode to GND\"),\n",
    "(\"What's the difference between Arduino and Raspberry Pi?\", \"Arduino is a microcontroller for hardware control, Raspberry Pi is a mini computer\"),\n",
    "(\"How do I read analog sensors?\", \"Use analogRead() on pins A0-A5, returns 0-1023 representing 0-5V\"),\n",
    "]\n",
    "\n",
    "client = Client(api_key=langsmith_api_key)\n",
    "dataset_name = \"Electronics Q&A Dataset\"\n",
    "\n",
    "dataset = client.create_dataset(\n",
    "  dataset_name=dataset_name, description=\"Basic electronics and microcontroller questions\",\n",
    ")\n",
    "\n",
    "inputs = [{\"question\": input_prompt} for input_prompt, _ in example_inputs]\n",
    "outputs = [{\"output\": output_answer} for _, output_answer in example_inputs]\n",
    "\n",
    "client.create_examples(\n",
    "  inputs=inputs,\n",
    "  outputs=outputs,\n",
    "  dataset_id=dataset.id,\n",
    ")"
   ]
  }
 ],
 "metadata": {
  "kernelspec": {
   "display_name": "mat",
   "language": "python",
   "name": "python3"
  },
  "language_info": {
   "codemirror_mode": {
    "name": "ipython",
    "version": 3
   },
   "file_extension": ".py",
   "mimetype": "text/x-python",
   "name": "python",
   "nbconvert_exporter": "python",
   "pygments_lexer": "ipython3",
   "version": "3.12.11"
  }
 },
 "nbformat": 4,
 "nbformat_minor": 5
}
