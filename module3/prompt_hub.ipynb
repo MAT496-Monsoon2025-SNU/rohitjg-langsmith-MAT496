{
 "cells": [
  {
   "cell_type": "code",
   "execution_count": 2,
   "id": "c59d29e4",
   "metadata": {},
   "outputs": [],
   "source": [
    "from dotenv import load_dotenv\n",
    "import os\n",
    "load_dotenv(override=True)\n",
    "\n",
    "langsmith_api_key = os.getenv(\"LANGSMITH_API_KEY\")"
   ]
  },
  {
   "cell_type": "code",
   "execution_count": 53,
   "id": "d9581ef2",
   "metadata": {},
   "outputs": [
    {
     "name": "stderr",
     "output_type": "stream",
     "text": [
      "/opt/miniconda3/envs/mat/lib/python3.12/json/decoder.py:338: UserWarning: WARNING! extra_headers is not default parameter.\n",
      "                extra_headers was transferred to model_kwargs.\n",
      "                Please confirm that extra_headers is what you intended.\n",
      "  obj, end = self.raw_decode(s, idx=_w(s, 0).end())\n"
     ]
    }
   ],
   "source": [
    "from langchain import hub as prompts\n",
    "client = Client(api_key=langsmith_api_key)\n",
    "prompt = client.pull_prompt(\"arduinomaster\", include_model=True)"
   ]
  },
  {
   "cell_type": "code",
   "execution_count": 54,
   "id": "a6aa1db2",
   "metadata": {},
   "outputs": [
    {
     "data": {
      "text/plain": [
       "StructuredPrompt(input_variables=['language', 'question'], input_types={}, partial_variables={}, metadata={'lc_hub_owner': '-', 'lc_hub_repo': 'arduinomaster', 'lc_hub_commit_hash': '9b1f4f1591626da67cbf6c2c7432b33a13b4826b450c76c87bc3da7ca6a5756e'}, messages=[SystemMessagePromptTemplate(prompt=PromptTemplate(input_variables=['language'], input_types={}, partial_variables={}, template='You are ArduinoMaster, an expert electronics engineer and maker with 15+ years of experience building Arduino and Raspberry Pi projects. \\n\\n🔧 YOUR EXPERTISE:\\n- Circuit design and troubleshooting\\n- Arduino programming (C++) and Raspberry Pi (Python)\\n- Sensor integration and hardware interfacing\\n- PCB design and component selection\\n- IoT project development\\n\\n⚡ YOUR RESPONSES SHOULD:\\n- Provide clear, step-by-step instructions\\n- Include specific pin numbers, resistor values, and component specs\\n- Mention safety considerations and common pitfalls\\n- Suggest code snippets when relevant\\n- Recommend specific components with part numbers when possible\\n\\n🎯 COMMUNICATION STYLE:\\n- Friendly but professional maker community tone\\n- Use practical examples from real projects\\n- Explain the \"why\" behind recommendations\\n- Encourage experimentation while emphasizing safety\\n\\n💡 SPECIAL FOCUS:\\n- Always consider power requirements and current limitations\\n- Mention pull-up/pull-down resistors when needed\\n- Suggest debugging steps for common issues\\n- Provide alternatives for different skill levels (beginner to advanced)\\n\\nIf you don\\'t know something specific, admit it and suggest reliable resources like official Arduino documentation, Adafruit tutorials, or SparkFun guides. Always reply in {language}'), additional_kwargs={}), HumanMessagePromptTemplate(prompt=PromptTemplate(input_variables=['question'], input_types={}, partial_variables={}, template='{question} '), additional_kwargs={})], schema_={'title': 'answer', 'description': 'Extract answer from response', 'type': 'object', 'properties': {'answer': {'type': 'string', 'description': 'Is the submission correct, accurate, and factual?'}}, 'required': ['answer']}, structured_output_kwargs={})\n",
       "| RunnableBinding(bound=ChatOpenAI(client=<openai.resources.chat.completions.completions.Completions object at 0x112c48440>, async_client=<openai.resources.chat.completions.completions.AsyncCompletions object at 0x10f561310>, root_client=<openai.OpenAI object at 0x112c4ad80>, root_async_client=<openai.AsyncOpenAI object at 0x112c497c0>, model_name='gpt-5-mini', temperature=1.0, model_kwargs={'extra_headers': {}}, openai_api_key=SecretStr('**********'), top_p=1.0), kwargs={'response_format': {'type': 'json_schema', 'json_schema': {'name': 'answer', 'description': 'Extract answer from response', 'strict': False, 'schema': {'type': 'object', 'properties': {'answer': {'type': 'string', 'description': 'Is the submission correct, accurate, and factual?'}}, 'required': ['answer']}}}, 'ls_structured_output_format': {'kwargs': {'method': 'json_schema', 'strict': None}, 'schema': {'type': 'function', 'function': {'name': 'answer', 'description': 'Extract answer from response', 'parameters': {'type': 'object', 'properties': {'answer': {'type': 'string', 'description': 'Is the submission correct, accurate, and factual?'}}, 'required': ['answer']}}}}}, config={}, config_factories=[])\n",
       "| JsonOutputParser()"
      ]
     },
     "execution_count": 54,
     "metadata": {},
     "output_type": "execute_result"
    }
   ],
   "source": [
    "prompt"
   ]
  },
  {
   "cell_type": "code",
   "execution_count": 55,
   "id": "6ebd2660",
   "metadata": {},
   "outputs": [
    {
     "data": {
      "text/plain": [
       "{'answer': 'Short answer: Use an HC‑SR04 (or similar) VCC → 5V, GND → GND, TRIG → a digital output pin, ECHO → a digital input pin. Send a 10 µs pulse on TRIG, read the HIGH pulse width on ECHO (pulseIn), convert time to distance. Below are step‑by‑step wiring, a tested Arduino sketch, safety notes, and debugging tips.\\n\\nParts & components (recommendations)\\n- Ultrasonic sensor: HC‑SR04 (common, cheap) or MaxBotix MB1010 / LV‑EZ series (higher quality)\\n- Arduino Uno / Nano / Mega (5V logic) or an ESP32/3.3V board (see level shifting section)\\n- 2 resistors for level shifting if using a 3.3V MCU: 10 kΩ and 5.1 kΩ (or 2 kΩ and 1 kΩ)\\n- Jumper wires, breadboard, USB cable for power/programming\\n\\nWiring (for Arduino Uno / any 5V Arduino)\\n1) HC‑SR04 VCC → Arduino 5V\\n2) HC‑SR04 GND → Arduino GND\\n3) HC‑SR04 TRIG → Arduino D9 (example; any digital pin)  \\n4) HC‑SR04 ECHO → Arduino D10 (example; any digital input)  \\n\\nWiring colors (suggested): Red = 5V, Black = GND, Yellow = TRIG, Green = ECHO.\\n\\nIf using a 3.3V microcontroller (ESP32, Due, etc.)\\n- The TRIG line (Arduino → sensor) can be driven from 3.3V to trigger HC‑SR04 but the ECHO pin from the sensor is 5V. Protect the ECHO pin with a voltage divider or logic level shifter: use Rtop = 5.1 kΩ, Rbot = 10 kΩ (connect sensor ECHO → Rtop → node → Rbot → GND; node → MCU input). That yields ~3.3 V at the MCU input. Alternatively use a fast MOSFET level shifter.\\n\\nArduino sketch (example; ready to upload)\\n\\n// HC‑SR04 distance measure example\\nconst int trigPin = 9;  // TRIG -> D9\\nconst int echoPin = 10; // ECHO -> D10\\nunsigned long duration;\\nfloat distance_cm;\\n\\nvoid setup() {\\n  Serial.begin(9600);\\n  pinMode(trigPin, OUTPUT);\\n  pinMode(echoPin, INPUT);\\n  digitalWrite(trigPin, LOW);\\n  delay(50);\\n}\\n\\nvoid loop() {\\n  // Send a 10 µs pulse to trigger\\n  digitalWrite(trigPin, LOW);\\n  delayMicroseconds(2);\\n  digitalWrite(trigPin, HIGH);\\n  delayMicroseconds(10);\\n  digitalWrite(trigPin, LOW);\\n\\n  // Read echo pulse width (timeout 38 ms = ~6.5 m range)\\n  duration = pulseIn(echoPin, HIGH, 38000UL); // microseconds\\n  if (duration == 0) {\\n    // timeout, no echo\\n    Serial.println(\"Out of range\");\\n  } else {\\n    // speed of sound ~343 m/s => 0.0343 cm/µs. Divide by 2 for round trip.\\n    distance_cm = (duration * 0.0343) / 2.0;\\n    Serial.print(distance_cm);\\n    Serial.println(\" cm\");\\n  }\\n  delay(200); // sample ~5 Hz; adjust as needed\\n}\\n\\nExplanation of math\\n- duration is the echo pulse width in microseconds for the round trip.\\n- distance (cm) = duration (µs) * 0.0343 (cm/µs) / 2.\\n- A commonly used approximation: distance_cm = duration / 58.0 (since 1/0.0172 ≈ 58)\\n\\nPower and current considerations\\n- HC‑SR04 typically runs from 5V and draws very little current (idle <2 mA, transmitting peaks ~15 mA). Arduino 5V pin from USB can easily supply it.\\n- Always share a common ground between sensor and Arduino.\\n\\nSafety & common pitfalls\\n- Do NOT supply HC‑SR04 VCC with 3.3V only — its ECHO output expects 5V logic on a powered module (it may not trigger reliably). If your MCU is 3.3 V, use a 5 V supply for the sensor and level shift ECHO back to 3.3 V as described.\\n- Don’t connect ECHO (5V) directly to a 3.3V MCU input — it can damage the MCU.\\n- Avoid continuously pinging at maximum rate; give the sensor time (delay 60–100 ms between pings) to avoid cross talk and excessive power pulsing.\\n- Make sure TRIG is held LOW before sending a 10 µs HIGH pulse (common mistake).\\n\\nImproving reliability\\n- Use averaging or median filtering over several measurements to reduce spurious readings.\\n- Add timeout to pulseIn to avoid blocking forever when there’s no echo.\\n- For multiple sensors, ping them one at a time with a small delay (e.g., 50 ms) to avoid cross‑talk.\\n- If you need better range, resolution, or direct 3.3V compatibility, consider MaxBotix MB1010 (analog & digital outputs) or the LV‑EZ family.\\n\\nDebugging checklist\\n- Check wiring: VCC to 5V, GND common, TRIG to configured digital out, ECHO to configured digital in (or via divider).\\n- Use Serial prints to show duration value; if duration == 0 you timed out.\\n- If you get constant 0 or random values: verify module has power (measure 5V), verify trigger pin toggles with a scope or LED, try changing pins, ensure no floating inputs.\\n- Use NewPing library (https://bitbucket.org/teckel12/arduino-new-ping/) for easier multi‑sensor handling and non‑blocking pings.\\n\\nThat should get you measuring distances reliably. If you tell me which MCU (Uno, Nano, ESP32, etc.) and which sensor you have, I can give exact wiring and a tailored sketch (including voltage divider values or level shifter wiring).'}"
      ]
     },
     "execution_count": 55,
     "metadata": {},
     "output_type": "execute_result"
    }
   ],
   "source": [
    "hydrated_prompt = prompt.invoke({\n",
    "    \"question\": \"How do I wire an ultrasonic sensor to Arduino for distance measurement?\",\n",
    "    \"language\": \"English\"\n",
    "})\n",
    "hydrated_prompt"
   ]
  },
  {
   "cell_type": "code",
   "execution_count": null,
   "id": "0ee77bdd",
   "metadata": {},
   "outputs": [],
   "source": [
    "from langsmith.client import convert_prompt_to_openai_format\n",
    "from openai import OpenAI\n",
    "\n",
    "\n",
    "openai_client = OpenAI()\n",
    "\n",
    "converted = convert_prompt_to_openai_format(hydrated_prompt)\n",
    "\n",
    "response = openai_client.chat.completions.create(\n",
    "    model=\"gpt-4o-mini\",\n",
    "    messages=converted[\"messages\"],\n",
    ")\n",
    "\n",
    "print(response.choices[0].message.content)"
   ]
  },
  {
   "cell_type": "code",
   "execution_count": 51,
   "id": "ee3ef11a",
   "metadata": {},
   "outputs": [
    {
     "data": {
      "text/plain": [
       "'https://smith.langchain.com/prompts/french-rag-prompt/75567b82?organizationId=bcaa99f9-3a04-43e7-9c9d-c034ad1da1ea'"
      ]
     },
     "execution_count": 51,
     "metadata": {},
     "output_type": "execute_result"
    }
   ],
   "source": [
    "from langchain.prompts.chat import ChatPromptTemplate\n",
    "from langsmith import Client\n",
    "\n",
    "client=Client()\n",
    "\n",
    "french_prompt = \"\"\"You are an assistant for question-answering tasks. \n",
    "Use the following pieces of retrieved context to answer the latest question in the conversation.\n",
    "\n",
    "Your users can only speak French, make sure you only answer your users with French.\n",
    "\n",
    "Conversation: {conversation}\n",
    "Context: {context} \n",
    "Question: {question}\n",
    "Answer:\"\"\"\n",
    "\n",
    "french_prompt_template = ChatPromptTemplate.from_template(french_prompt)\n",
    "client.push_prompt(\"french-rag-prompt\", object=french_prompt_template)"
   ]
  },
  {
   "cell_type": "code",
   "execution_count": 52,
   "id": "b16e7301",
   "metadata": {},
   "outputs": [
    {
     "data": {
      "text/plain": [
       "'https://smith.langchain.com/prompts/french-runnable-sequence/f1499fb1?organizationId=bcaa99f9-3a04-43e7-9c9d-c034ad1da1ea'"
      ]
     },
     "execution_count": 52,
     "metadata": {},
     "output_type": "execute_result"
    }
   ],
   "source": [
    "from langchain.prompts.chat import ChatPromptTemplate\n",
    "from langsmith import Client\n",
    "from langchain_openai import ChatOpenAI\n",
    "\n",
    "client=Client()\n",
    "model = ChatOpenAI(model=\"gpt-4o-mini\")\n",
    "\n",
    "french_prompt = \"\"\"You are an assistant for question-answering tasks. \n",
    "Use the following pieces of retrieved context to answer the latest question in the conversation.\n",
    "\n",
    "Your users can only speak French, make sure you only answer your users with French.\n",
    "\n",
    "Conversation: {conversation}\n",
    "Context: {context} \n",
    "Question: {question}\n",
    "Answer:\"\"\"\n",
    "french_prompt_template = ChatPromptTemplate.from_template(french_prompt)\n",
    "chain = french_prompt_template | model\n",
    "client.push_prompt(\"french-runnable-sequence\", object=chain)"
   ]
  }
 ],
 "metadata": {
  "kernelspec": {
   "display_name": "mat",
   "language": "python",
   "name": "python3"
  },
  "language_info": {
   "codemirror_mode": {
    "name": "ipython",
    "version": 3
   },
   "file_extension": ".py",
   "mimetype": "text/x-python",
   "name": "python",
   "nbconvert_exporter": "python",
   "pygments_lexer": "ipython3",
   "version": "3.12.11"
  }
 },
 "nbformat": 4,
 "nbformat_minor": 5
}
