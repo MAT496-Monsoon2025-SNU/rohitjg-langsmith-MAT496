{
 "cells": [
  {
   "cell_type": "code",
   "execution_count": 11,
   "id": "c6baae52",
   "metadata": {},
   "outputs": [
    {
     "data": {
      "text/plain": [
       "True"
      ]
     },
     "execution_count": 11,
     "metadata": {},
     "output_type": "execute_result"
    }
   ],
   "source": [
    "from dotenv import load_dotenv\n",
    "load_dotenv(override=True)\n"
   ]
  },
  {
   "cell_type": "code",
   "execution_count": 12,
   "id": "a45d45f8",
   "metadata": {},
   "outputs": [
    {
     "data": {
      "text/plain": [
       "{'choices': [{'message': {'role': 'assistant',\n",
       "    'content': \"Ah, two souls seeking respite... The corner table by the flickering candlelight awaits, but tell me, do you prefer to dine when the moon reaches its zenith, or when the shadows grow long with twilight's embrace?\"}}]}"
      ]
     },
     "execution_count": 12,
     "metadata": {},
     "output_type": "execute_result"
    }
   ],
   "source": [
    "from langsmith import traceable\n",
    "\n",
    "inputs = [\n",
    "  {\"role\": \"system\", \"content\": \"You are a mysterious tavern keeper who speaks in riddles and has seen countless adventures unfold in your establishment.\"},\n",
    "  {\"role\": \"user\", \"content\": \"I seek a table for two weary travelers who have journeyed far through enchanted forests.\"},\n",
    "]\n",
    "\n",
    "output = {\n",
    "  \"choices\": [\n",
    "      {\n",
    "          \"message\": {\n",
    "              \"role\": \"assistant\",\n",
    "              \"content\": \"Ah, two souls seeking respite... The corner table by the flickering candlelight awaits, but tell me, do you prefer to dine when the moon reaches its zenith, or when the shadows grow long with twilight's embrace?\"\n",
    "          }\n",
    "      }\n",
    "  ]\n",
    "}\n",
    "\n",
    "@traceable(\n",
    "  run_type=\"llm\",\n",
    "  metadata={\n",
    "      \"ls_provider\": \"openai\",\n",
    "      \"ls_model_name\": \"gpt-4\"\n",
    "  }\n",
    ")\n",
    "def chat_model(messages: list):\n",
    "  return output\n",
    "\n",
    "chat_model(inputs)"
   ]
  },
  {
   "cell_type": "code",
   "execution_count": 13,
   "id": "bbaa4391",
   "metadata": {},
   "outputs": [
    {
     "data": {
      "text/plain": [
       "[{'choices': [{'message': {'content': 'Greetings, noble Zara the Dragon Whisperer! Welcome to our magical realm where adventure awaits!',\n",
       "     'role': 'assistant'}}]}]"
      ]
     },
     "execution_count": 13,
     "metadata": {},
     "output_type": "execute_result"
    }
   ],
   "source": [
    "def _reduce_chunks(chunks: list):\n",
    "    all_text = \"\".join([chunk[\"choices\"][0][\"message\"][\"content\"] for chunk in chunks])\n",
    "    return {\"choices\": [{\"message\": {\"content\": all_text, \"role\": \"assistant\"}}]}\n",
    "\n",
    "@traceable(\n",
    "    run_type=\"llm\",\n",
    "    metadata={\"ls_provider\": \"my_provider\", \"ls_model_name\": \"my_model\"},\n",
    "    reduce_fn=_reduce_chunks,\n",
    ")\n",
    "def my_streaming_chat_model(messages: list):\n",
    "    for chunk in [\"Greetings, noble \" + messages[1][\"content\"] + \"! Welcome to our magical realm where adventure awaits!\"]:\n",
    "        yield {\n",
    "            \"choices\": [\n",
    "                {\n",
    "                    \"message\": {\n",
    "                        \"content\": chunk,\n",
    "                        \"role\": \"assistant\",\n",
    "                    }\n",
    "                }\n",
    "            ]\n",
    "        }\n",
    "\n",
    "list(\n",
    "    my_streaming_chat_model(\n",
    "        [\n",
    "            {\"role\": \"system\", \"content\": \"You are an ancient wizard's talking mirror that greets all who dare approach with mystical salutations.\"},\n",
    "            {\"role\": \"user\", \"content\": \"Zara the Dragon Whisperer\"},\n",
    "        ],\n",
    "    )\n",
    ")"
   ]
  },
  {
   "cell_type": "code",
   "execution_count": 14,
   "id": "8206204e",
   "metadata": {},
   "outputs": [
    {
     "data": {
      "text/plain": [
       "[{'page_content': 'The Sacred Tome of Elemental Magic reveals the secrets of fire, water, earth, and air...',\n",
       "  'type': 'Document',\n",
       "  'metadata': {'ancient_library': 'Alexandria',\n",
       "   'scroll_condition': 'mystical'}},\n",
       " {'page_content': 'Chronicle of the Last Dragon: Here lies the tale of Pyraxis, the golden drake who guarded the Crystal of Eternity...',\n",
       "  'type': 'Document',\n",
       "  'metadata': {'ancient_library': 'Alexandria',\n",
       "   'scroll_condition': 'mystical'}},\n",
       " {'page_content': \"Alchemist's Handbook: Chapter XVII - The Philosopher's Stone and the Art of Transmutation...\",\n",
       "  'type': 'Document',\n",
       "  'metadata': {'ancient_library': 'Alexandria',\n",
       "   'scroll_condition': 'mystical'}}]"
      ]
     },
     "execution_count": 14,
     "metadata": {},
     "output_type": "execute_result"
    }
   ],
   "source": [
    "\t\n",
    "from langsmith import traceable\n",
    "\n",
    "def _convert_docs(results):\n",
    "  return [\n",
    "      {\n",
    "          \"page_content\": r,\n",
    "          \"type\": \"Document\",\n",
    "          \"metadata\": {\"ancient_library\": \"Alexandria\", \"scroll_condition\": \"mystical\"}\n",
    "      }\n",
    "      for r in results\n",
    "  ]\n",
    "\n",
    "@traceable(\n",
    "    run_type=\"retriever\"\n",
    ")\n",
    "def retrieve_docs(query):\n",
    "  contents = [\n",
    "      \"The Sacred Tome of Elemental Magic reveals the secrets of fire, water, earth, and air...\", \n",
    "      \"Chronicle of the Last Dragon: Here lies the tale of Pyraxis, the golden drake who guarded the Crystal of Eternity...\", \n",
    "      \"Alchemist's Handbook: Chapter XVII - The Philosopher's Stone and the Art of Transmutation...\"\n",
    "  ]\n",
    "  return _convert_docs(contents)\n",
    "\n",
    "retrieve_docs(\"Searching the forbidden archives for ancient spells of protection\")"
   ]
  },
  {
   "cell_type": "code",
   "execution_count": 15,
   "id": "cb14d510",
   "metadata": {},
   "outputs": [
    {
     "data": {
      "text/plain": [
       "ChatCompletion(id='chatcmpl-CMrBMgZTqB594rZJFV6chvzdHNXHr', choices=[Choice(finish_reason='stop', index=0, logprobs=None, message=ChatCompletionMessage(content=\"The wind spirits whisper of a temperate day in the great metropolis of New York, where the air is a gentle 17 degrees Celsius. A soft breeze dances through the streets, carrying with it the scents of autumn. The skies may be adorned with wisps of clouds, but the sun's warmth breaks through, inviting the denizens to embrace the day. It is a time for exploration and connection with the vibrant life of the city.\", refusal=None, role='assistant', annotations=[], audio=None, function_call=None, tool_calls=None))], created=1759563684, model='gpt-4o-mini-2024-07-18', object='chat.completion', service_tier='default', system_fingerprint='fp_51db84afab', usage=CompletionUsage(completion_tokens=88, prompt_tokens=107, total_tokens=195, completion_tokens_details=CompletionTokensDetails(accepted_prediction_tokens=0, audio_tokens=0, reasoning_tokens=0, rejected_prediction_tokens=0), prompt_tokens_details=PromptTokensDetails(audio_tokens=0, cached_tokens=0)))"
      ]
     },
     "execution_count": 15,
     "metadata": {},
     "output_type": "execute_result"
    }
   ],
   "source": [
    "from langsmith import traceable\n",
    "from openai import OpenAI\n",
    "from typing import List, Optional\n",
    "import json\n",
    "\n",
    "openai_client = OpenAI()\n",
    "\n",
    "@traceable(\n",
    "  run_type=\"tool\"\n",
    ")\n",
    "def get_current_temperature(location: str, unit: str):\n",
    "    return 65 if unit == \"Fahrenheit\" else 17\n",
    "\n",
    "@traceable(run_type=\"llm\")\n",
    "def call_openai(\n",
    "    messages: List[dict], tools: Optional[List[dict]]\n",
    ") -> str:\n",
    "  return openai_client.chat.completions.create(\n",
    "    model=\"gpt-4o-mini\",\n",
    "    messages=messages,\n",
    "    temperature=0,\n",
    "    tools=tools\n",
    "  )\n",
    "\n",
    "@traceable(run_type=\"chain\")\n",
    "def ask_about_the_weather(inputs, tools):\n",
    "  response = call_openai(inputs, tools)\n",
    "  tool_call_args = json.loads(response.choices[0].message.tool_calls[0].function.arguments)\n",
    "  location = tool_call_args[\"location\"]\n",
    "  unit = tool_call_args[\"unit\"]\n",
    "  tool_response_message = {\n",
    "    \"role\": \"tool\",\n",
    "    \"content\": json.dumps({\n",
    "        \"location\": location,\n",
    "        \"unit\": unit,\n",
    "        \"temperature\": get_current_temperature(location, unit),\n",
    "    }),\n",
    "    \"tool_call_id\": response.choices[0].message.tool_calls[0].id\n",
    "  }\n",
    "  inputs.append(response.choices[0].message)\n",
    "  inputs.append(tool_response_message)\n",
    "  output = call_openai(inputs, None)\n",
    "  return output\n",
    "\n",
    "tools = [\n",
    "    {\n",
    "      \"type\": \"function\",\n",
    "      \"function\": {\n",
    "        \"name\": \"get_current_temperature\",\n",
    "        \"description\": \"Consult the mystical weather spirits to divine the atmospheric conditions\",\n",
    "        \"parameters\": {\n",
    "          \"type\": \"object\",\n",
    "          \"properties\": {\n",
    "            \"location\": {\n",
    "              \"type\": \"string\",\n",
    "              \"description\": \"The kingdom or realm you wish to know about, e.g., The Floating City of Nimbus, The Frost Peaks of Valdris\"\n",
    "            },\n",
    "            \"unit\": {\n",
    "              \"type\": \"string\",\n",
    "              \"enum\": [\"Celsius\", \"Fahrenheit\"],\n",
    "              \"description\": \"Choose your preferred mystical temperature measurement. The ancient scrolls suggest inferring from regional customs.\"\n",
    "            }\n",
    "          },\n",
    "          \"required\": [\"location\", \"unit\"]\n",
    "        }\n",
    "      }\n",
    "    }\n",
    "]\n",
    "inputs = [\n",
    "  {\"role\": \"system\", \"content\": \"You are Atmospherica, the Weather Oracle of the Seven Realms, capable of sensing the elemental forces across all lands.\"},\n",
    "  {\"role\": \"user\", \"content\": \"O wise Oracle, what do the wind spirits whisper about today's conditions in the great metropolis of New York?\"},\n",
    "]\n",
    "\n",
    "ask_about_the_weather(inputs, tools)"
   ]
  },
  {
   "cell_type": "code",
   "execution_count": 16,
   "id": "9b697ff7",
   "metadata": {},
   "outputs": [
    {
     "name": "stdout",
     "output_type": "stream",
     "text": [
      "{'grand_prophecy': 'Behold! The Great Weather Oracle has spoken...', 'realm_forecasts': ['In The Crystal Peaks of Eldoria: Ancient cloud dragons dance through twilight skies (Intensity: 2/10)', 'In Shadowmere Swamplands: Ice phoenixes scatter their frozen feathers from the heavens (Intensity: 2/10)', 'In The Floating Islands of Aethermoor: Thunder spirits clash in celestial battles above (Intensity: 2/10)', 'In Dragonfire Desert: The Sky Serpent weeps tears of silver across the land (Intensity: 8/10)', 'In The Whispering Woods of Luna: Ancient cloud dragons dance through twilight skies (Intensity: 2/10)'], 'prophetic_wisdom': 'The elements dance differently in each realm, mortal. Heed these visions well.'}\n"
     ]
    }
   ],
   "source": [
    "from langsmith import traceable\n",
    "import random\n",
    "\n",
    "@traceable(\n",
    "    run_type=\"tool\"\n",
    ")\n",
    "def consult_storm_crystals(region: str):\n",
    "    \"\"\"Divine weather patterns by gazing into enchanted storm crystals\"\"\"\n",
    "    mystical_conditions = {\n",
    "        \"sunny\": \"Golden rays of the Sun God illuminate the realm\",\n",
    "        \"rainy\": \"The Sky Serpent weeps tears of silver across the land\", \n",
    "        \"cloudy\": \"Ancient cloud dragons dance through twilight skies\",\n",
    "        \"stormy\": \"Thunder spirits clash in celestial battles above\",\n",
    "        \"snowy\": \"Ice phoenixes scatter their frozen feathers from the heavens\"\n",
    "    }\n",
    "    condition = random.choice(list(mystical_conditions.keys()))\n",
    "    return {\n",
    "        \"region\": region,\n",
    "        \"mystical_forecast\": mystical_conditions[condition],\n",
    "        \"magical_intensity\": random.randint(1, 10)\n",
    "    }\n",
    "\n",
    "@traceable(\n",
    "    run_type=\"chain\"\n",
    ")\n",
    "def forecast_the_seven_realms():\n",
    "    \"\"\"Grand weather divination across all mystical kingdoms\"\"\"\n",
    "    realms = [\n",
    "        \"The Crystal Peaks of Eldoria\",\n",
    "        \"Shadowmere Swamplands\", \n",
    "        \"The Floating Islands of Aethermoor\",\n",
    "        \"Dragonfire Desert\",\n",
    "        \"The Whispering Woods of Luna\"\n",
    "    ]\n",
    "    \n",
    "    prophecies = []\n",
    "    for realm in realms:\n",
    "        vision = consult_storm_crystals(realm)\n",
    "        prophecies.append(f\"In {vision['region']}: {vision['mystical_forecast']} (Intensity: {vision['magical_intensity']}/10)\")\n",
    "    \n",
    "    return {\n",
    "        \"grand_prophecy\": \"Behold! The Great Weather Oracle has spoken...\",\n",
    "        \"realm_forecasts\": prophecies,\n",
    "        \"prophetic_wisdom\": \"The elements dance differently in each realm, mortal. Heed these visions well.\"\n",
    "    }\n",
    "\n",
    "divine_weather_vision = forecast_the_seven_realms()\n",
    "print(divine_weather_vision)"
   ]
  }
 ],
 "metadata": {
  "kernelspec": {
   "display_name": "mat",
   "language": "python",
   "name": "python3"
  },
  "language_info": {
   "codemirror_mode": {
    "name": "ipython",
    "version": 3
   },
   "file_extension": ".py",
   "mimetype": "text/x-python",
   "name": "python",
   "nbconvert_exporter": "python",
   "pygments_lexer": "ipython3",
   "version": "3.12.11"
  }
 },
 "nbformat": 4,
 "nbformat_minor": 5
}
